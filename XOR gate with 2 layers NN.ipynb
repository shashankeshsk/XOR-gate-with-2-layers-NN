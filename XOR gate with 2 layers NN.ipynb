{
 "cells": [
  {
   "cell_type": "markdown",
   "metadata": {},
   "source": [
    "# Perceptron learning algorithm to implement Logic gates with Backpropagation algorithm\n"
   ]
  },
  {
   "cell_type": "code",
   "execution_count": 634,
   "metadata": {},
   "outputs": [],
   "source": [
    "import numpy as np\n",
    "import matplotlib.pyplot as plt"
   ]
  },
  {
   "cell_type": "code",
   "execution_count": 655,
   "metadata": {},
   "outputs": [],
   "source": [
    "train_x = np.array([[0,0,1,1],[0,1,0,1]])\n",
    "train_y = np.array([[0,1,1,0]])"
   ]
  },
  {
   "cell_type": "code",
   "execution_count": 636,
   "metadata": {},
   "outputs": [],
   "source": [
    "n_x = train_x.shape[0]\n",
    "n_h = 2\n",
    "n_y = 1\n",
    "layers_dims = (n_x, n_h, n_y)"
   ]
  },
  {
   "cell_type": "code",
   "execution_count": 638,
   "metadata": {},
   "outputs": [],
   "source": [
    "def relu(z):\n",
    "    A = np.maximum(0,z)\n",
    "    return A, z"
   ]
  },
  {
   "cell_type": "code",
   "execution_count": 683,
   "metadata": {},
   "outputs": [],
   "source": [
    "np.random.seed(1)\n",
    "def initialize_parameters(n_x, n_h, n_y):    \n",
    "    W1 = np.random.randn(n_h, n_x)*.001\n",
    "    b1 = np.zeros((n_h,1))\n",
    "    W2 = np.random.randn(n_y, n_h)*.001\n",
    "    b2 = np.zeros((n_y, 1))\n",
    "    \n",
    "    assert(W1.shape == (n_h, n_x))\n",
    "    assert(b1.shape == (n_h, 1))\n",
    "    assert(W2.shape == (n_y, n_h))\n",
    "    assert(b2.shape == (n_y, 1))\n",
    "    \n",
    "    parameters = {\"W1\": W1,\n",
    "                  \"b1\": b1,\n",
    "                  \"W2\": W2,\n",
    "                  \"b2\": b2}\n",
    "    \n",
    "    return parameters    "
   ]
  },
  {
   "cell_type": "code",
   "execution_count": 684,
   "metadata": {},
   "outputs": [],
   "source": [
    "def linear_forward(A, W, b):\n",
    "    \n",
    "    Z = np.dot(W, A)+b\n",
    "    \n",
    "    assert(Z.shape == (W.shape[0], A.shape[1]))\n",
    "    cache = (A, W, b)\n",
    "    \n",
    "    return Z, cache"
   ]
  },
  {
   "cell_type": "code",
   "execution_count": 685,
   "metadata": {},
   "outputs": [],
   "source": [
    "def linear_activation_forward(A_prev, W, b, activation):\n",
    "   \n",
    "    if activation==\"relu\":\n",
    "        Z, linear_cache = linear_forward(A_prev, W, b)\n",
    "        A, activation_cache = relu(Z)\n",
    "    else:\n",
    "        Z, linear_cache = linear_forward(A_prev, W, b)\n",
    "        A, activation_cache = sigmoid(Z)  \n",
    "    \n",
    "    assert (A.shape == (W.shape[0], A_prev.shape[1]))\n",
    "    cache = (linear_cache, activation_cache)\n",
    "\n",
    "    return A, cache"
   ]
  },
  {
   "cell_type": "code",
   "execution_count": 686,
   "metadata": {},
   "outputs": [],
   "source": [
    "def xor_model_forward(X, parameters):\n",
    "\n",
    "    caches = []\n",
    "    A = X\n",
    "    \n",
    "    A, cache = linear_activation_forward(A, parameters[\"W1\"], parameters[\"b1\"],\"relu\")#hidden layer\n",
    "    caches.append(cache)\n",
    "    \n",
    "    AL, cache = linear_activation_forward(A, parameters[\"W2\"], parameters[\"b2\"],\"relu\")#output layer\n",
    "    caches.append(cache)\n",
    "    \n",
    "    assert(AL.shape == (1,X.shape[1]))\n",
    "            \n",
    "    return AL, caches"
   ]
  },
  {
   "cell_type": "code",
   "execution_count": 687,
   "metadata": {},
   "outputs": [],
   "source": [
    "def compute_cost(AL, Y):\n",
    "\n",
    "    m = Y.shape[1]\n",
    "\n",
    "    # Compute loss from aL and y.\n",
    "    cost = np.sum((Y-AL)**2)/2\n",
    "    \n",
    "    cost = np.squeeze(cost)      # To make sure your cost's shape is what we expect (e.g. this turns [[17]] into 17).\n",
    "    assert(cost.shape == ())\n",
    "    \n",
    "    return cost"
   ]
  },
  {
   "cell_type": "code",
   "execution_count": 688,
   "metadata": {},
   "outputs": [],
   "source": [
    "def linear_backward(dZ, cache):\n",
    "    A_prev, W, b = cache\n",
    "    m = A_prev.shape[1]\n",
    "\n",
    "    dW = np.dot(dZ, A_prev.T)#/m\n",
    "    db = np.sum(dZ, axis = 1, keepdims = True)#/m\n",
    "    dA_prev = np.dot(W.T, dZ)\n",
    "    \n",
    "    assert (dA_prev.shape == A_prev.shape)\n",
    "    assert (dW.shape == W.shape)\n",
    "    assert (db.shape == b.shape)\n",
    "    \n",
    "    return dA_prev, dW, db"
   ]
  },
  {
   "cell_type": "code",
   "execution_count": 689,
   "metadata": {},
   "outputs": [],
   "source": [
    "def linear_activation_backward(dA, cache):\n",
    "\n",
    "    linear_cache, activation_cache = cache\n",
    "    \n",
    "    Z = activation_cache\n",
    "    dZ = np.array(dA, copy=True) # just converting dz to a correct object.\n",
    "    \n",
    "    # When z <= 0, you should set dz to 0 as well. \n",
    "    dZ[Z <= 0] = 0\n",
    "    \n",
    "    dA_prev, dW, db = linear_backward(dZ, linear_cache)\n",
    "\n",
    "    return dA_prev, dW, db"
   ]
  },
  {
   "cell_type": "code",
   "execution_count": 690,
   "metadata": {},
   "outputs": [],
   "source": [
    "def xor_model_backward(AL, Y, caches):\n",
    "    \n",
    "    grads = {}\n",
    "    m = AL.shape[1]\n",
    "    Y = Y.reshape(AL.shape) # after this line, Y is the same shape as AL\n",
    "    \n",
    "    # Initializing the backpropagation\n",
    "    dAL = AL - Y\n",
    "    #output layer\n",
    "    current_cache = caches[1]\n",
    "    grads[\"dA1\"], grads[\"dW2\"], grads[\"db2\"] = linear_activation_backward(dAL, current_cache)\n",
    "    \n",
    "    #hidden layer\n",
    "    current_cache = caches[0]\n",
    "    _, grads[\"dW1\"], grads[\"db1\"] = linear_activation_backward(grads[\"dA1\"], current_cache)\n",
    "\n",
    "    return grads"
   ]
  },
  {
   "cell_type": "code",
   "execution_count": 691,
   "metadata": {},
   "outputs": [],
   "source": [
    "def update_parameters(parameters, grads, learning_rate):\n",
    "    \n",
    "    parameters[\"W1\"] = parameters[\"W1\"] - learning_rate*grads['dW1']\n",
    "    parameters[\"b1\"] = parameters[\"b1\"] - learning_rate*grads['db1']\n",
    "    \n",
    "    parameters[\"W2\"] = parameters[\"W2\"] - learning_rate*grads['dW2']\n",
    "    parameters[\"b2\"] = parameters[\"b2\"] - learning_rate*grads['db2']\n",
    "    \n",
    "    return parameters"
   ]
  },
  {
   "cell_type": "code",
   "execution_count": 692,
   "metadata": {},
   "outputs": [],
   "source": [
    "def predict(parameters,X):\n",
    "    AL, _ = xor_model_forward(X, parameters)\n",
    "    return AL"
   ]
  },
  {
   "cell_type": "code",
   "execution_count": 693,
   "metadata": {},
   "outputs": [],
   "source": [
    "def xor_nn_model(X, Y, layers_dims, learning_rate = 0.0075, num_iterations = 3000, print_cost=False):\n",
    "    grads = {}\n",
    "    costs = []                              # to keep track of the cost\n",
    "    m = X.shape[1]                           # number of examples\n",
    "    (n_x, n_h, n_y) = layers_dims\n",
    "    \n",
    "    parameters = initialize_parameters(n_x, n_h, n_y)\n",
    "    \n",
    "     # Loop (gradient descent)\n",
    "    for i in range(0, num_iterations):\n",
    "        #Forward propagation\n",
    "        AL, caches = xor_model_forward(X, parameters)\n",
    "        \n",
    "        # Compute cost\n",
    "        cost = compute_cost(AL, Y)\n",
    "\n",
    "        # Backward propagation.\n",
    "        grads = xor_model_backward(AL, Y, caches)\n",
    "        \n",
    "        # Update parameters.\n",
    "        parameters = update_parameters(parameters, grads, learning_rate)\n",
    "        \n",
    "        y_predict = predict(parameters,X)\n",
    "        if print_cost and i % 1000 == 0:\n",
    "            print(\"y_predict: \",y_predict)\n",
    "            print (\"Cost after iteration %i: %f\" %(i, cost))\n",
    "            costs.append(cost)\n",
    "    \n",
    "    # plot the cost\n",
    "    plt.plot(np.squeeze(costs))\n",
    "    plt.ylabel('cost')\n",
    "    plt.xlabel('iterations ')\n",
    "    plt.title(\"Learning rate =\" + str(learning_rate))\n",
    "    plt.show()\n",
    "    d = {\"costs\": costs,\n",
    "         \"Y_prediction_train\" : AL, \n",
    "         \"parameters\" : parameters,\n",
    "         \"learning_rate\" : learning_rate,\n",
    "         \"num_iterations\": num_iterations}\n",
    "    \n",
    "    return d"
   ]
  },
  {
   "cell_type": "code",
   "execution_count": 701,
   "metadata": {},
   "outputs": [
    {
     "name": "stdout",
     "output_type": "stream",
     "text": [
      "y_predict:  [[0.01500003 0.01500034 0.01500017 0.01500019]]\n",
      "Cost after iteration 0: 1.000000\n",
      "y_predict:  [[0.49991242 0.50005136 0.50018426 0.49991284]]\n",
      "Cost after iteration 1000: 0.499796\n",
      "y_predict:  [[0.48371536 0.51044886 0.53401816 0.48399368]]\n",
      "Cost after iteration 2000: 0.462564\n",
      "y_predict:  [[0.08853206 0.92796874 0.93851636 0.08873129]]\n",
      "Cost after iteration 3000: 0.012452\n",
      "y_predict:  [[0.00124201 0.9991207  0.99912429 0.00124707]]\n",
      "Cost after iteration 4000: 0.000002\n",
      "y_predict:  [[1.49840107e-05 9.99989267e-01 9.99989509e-01 1.49616176e-05]]\n",
      "Cost after iteration 5000: 0.000000\n",
      "y_predict:  [[1.80161125e-07 9.99999874e-01 9.99999872e-01 1.79656625e-07]]\n",
      "Cost after iteration 6000: 0.000000\n",
      "y_predict:  [[2.15562396e-09 9.99999998e-01 9.99999998e-01 2.15956882e-09]]\n",
      "Cost after iteration 7000: 0.000000\n",
      "y_predict:  [[2.59409258e-11 1.00000000e+00 1.00000000e+00 2.59993860e-11]]\n",
      "Cost after iteration 8000: 0.000000\n",
      "y_predict:  [[3.0972965e-13 1.0000000e+00 1.0000000e+00 3.0972965e-13]]\n",
      "Cost after iteration 9000: 0.000000\n"
     ]
    },
    {
     "data": {
      "image/png": "[encoded data removed]",
      "text/plain": [
       "<Figure size 432x288 with 1 Axes>"
      ]
     },
     "metadata": {
      "needs_background": "light"
     },
     "output_type": "display_data"
    }
   ],
   "source": [
    "d = xor_nn_model(train_x, train_y, layers_dims, num_iterations = 10000, print_cost = True)"
   ]
  },
  {
   "cell_type": "code",
   "execution_count": 702,
   "metadata": {},
   "outputs": [
    {
     "name": "stdout",
     "output_type": "stream",
     "text": [
      "y_predict:  [[0. 0. 0. 0.]]\n",
      "Cost after iteration 0: 1.000000\n",
      "y_predict:  [[0. 0. 0. 0.]]\n",
      "Cost after iteration 1000: 1.000000\n",
      "y_predict:  [[0. 0. 0. 0.]]\n",
      "Cost after iteration 2000: 1.000000\n",
      "y_predict:  [[0. 0. 0. 0.]]\n",
      "Cost after iteration 3000: 1.000000\n",
      "y_predict:  [[0. 0. 0. 0.]]\n",
      "Cost after iteration 4000: 1.000000\n",
      "y_predict:  [[0. 0. 0. 0.]]\n",
      "Cost after iteration 5000: 1.000000\n",
      "y_predict:  [[0. 0. 0. 0.]]\n",
      "Cost after iteration 6000: 1.000000\n",
      "y_predict:  [[0. 0. 0. 0.]]\n",
      "Cost after iteration 7000: 1.000000\n",
      "y_predict:  [[0. 0. 0. 0.]]\n",
      "Cost after iteration 8000: 1.000000\n",
      "y_predict:  [[0. 0. 0. 0.]]\n",
      "Cost after iteration 9000: 1.000000\n"
     ]
    },
    {
     "data": {
      "image/png": "[encoded data removed]",
      "text/plain": [
       "<Figure size 432x288 with 1 Axes>"
      ]
     },
     "metadata": {
      "needs_background": "light"
     },
     "output_type": "display_data"
    }
   ],
   "source": [
    "d = xor_nn_model(train_x, train_y, layers_dims, learning_rate = 0.0075,num_iterations = 10000, print_cost = True)"
   ]
  },
  {
   "cell_type": "code",
   "execution_count": 703,
   "metadata": {},
   "outputs": [
    {
     "name": "stdout",
     "output_type": "stream",
     "text": [
      "y_predict:  [[0.01499999 0.015001   0.01500075 0.0150017 ]]\n",
      "Cost after iteration 0: 0.999998\n",
      "y_predict:  [[0.49999229 0.50002228 0.49999394 0.49999595]]\n",
      "Cost after iteration 1000: 0.499986\n",
      "y_predict:  [[0.49882111 0.50430239 0.49882283 0.49882468]]\n",
      "Cost after iteration 2000: 0.497286\n",
      "y_predict:  [[0.40529432 0.81339656 0.40529716 0.40667725]]\n",
      "Cost after iteration 3000: 0.358898\n",
      "y_predict:  [[0.33400029 0.99849699 0.33474909 0.33404106]]\n",
      "Cost after iteration 4000: 0.332854\n",
      "y_predict:  [[0.22479692 0.95649537 0.65717924 0.22636488]]\n",
      "Cost after iteration 5000: 0.110962\n",
      "y_predict:  [[0.00484822 0.99654009 0.99646145 0.00484822]]\n",
      "Cost after iteration 6000: 0.000036\n",
      "y_predict:  [[5.89807298e-05 9.99958574e-01 9.99959168e-01 5.94250677e-05]]\n",
      "Cost after iteration 7000: 0.000000\n",
      "y_predict:  [[7.03846781e-07 9.99999496e-01 9.99999503e-01 7.03846781e-07]]\n",
      "Cost after iteration 8000: 0.000000\n",
      "y_predict:  [[8.45688414e-09 9.99999994e-01 9.99999994e-01 8.47115963e-09]]\n",
      "Cost after iteration 9000: 0.000000\n"
     ]
    },
    {
     "data": {
      "image/png": "[encoded data removed]",
      "text/plain": [
       "<Figure size 432x288 with 1 Axes>"
      ]
     },
     "metadata": {
      "needs_background": "light"
     },
     "output_type": "display_data"
    }
   ],
   "source": [
    "d = xor_nn_model(train_x, train_y, layers_dims, learning_rate = 0.0075,num_iterations = 10000, print_cost = True)"
   ]
  },
  {
   "cell_type": "code",
   "execution_count": 704,
   "metadata": {},
   "outputs": [
    {
     "name": "stdout",
     "output_type": "stream",
     "text": [
      "y_predict:  [[0.0075     0.00750062 0.00749995 0.00750023]]\n",
      "Cost after iteration 0: 0.999999\n",
      "y_predict:  [[0.49996649 0.50011632 0.49997544 0.49996696]]\n",
      "Cost after iteration 1000: 0.499921\n",
      "y_predict:  [[0.49354669 0.52171812 0.49539632 0.49354669]]\n",
      "Cost after iteration 2000: 0.485367\n",
      "y_predict:  [[0.25901103 0.90911063 0.64577784 0.25970449]]\n",
      "Cost after iteration 3000: 0.134495\n",
      "y_predict:  [[0.0060663  0.99573836 0.99556183 0.00607085]]\n",
      "Cost after iteration 4000: 0.000056\n",
      "y_predict:  [[7.38094821e-05 9.99948228e-01 9.99948314e-01 7.38035978e-05]]\n",
      "Cost after iteration 5000: 0.000000\n",
      "y_predict:  [[8.82126897e-07 9.99999362e-01 9.99999372e-01 8.82126897e-07]]\n",
      "Cost after iteration 6000: 0.000000\n",
      "y_predict:  [[1.06373440e-08 9.99999993e-01 9.99999992e-01 1.06518529e-08]]\n",
      "Cost after iteration 7000: 0.000000\n",
      "y_predict:  [[1.27973305e-10 1.00000000e+00 1.00000000e+00 1.28251791e-10]]\n",
      "Cost after iteration 8000: 0.000000\n",
      "y_predict:  [[1.53374679e-12 1.00000000e+00 1.00000000e+00 1.54654444e-12]]\n",
      "Cost after iteration 9000: 0.000000\n"
     ]
    },
    {
     "data": {
      "image/png": "[encoded data removed]",
      "text/plain": [
       "<Figure size 432x288 with 1 Axes>"
      ]
     },
     "metadata": {
      "needs_background": "light"
     },
     "output_type": "display_data"
    }
   ],
   "source": [
    "d = xor_nn_model(train_x, train_y, layers_dims, learning_rate = 0.0075,num_iterations = 10000, print_cost = True)"
   ]
  }
 ],
 "metadata": {
  "kernelspec": {
   "display_name": "Python 3",
   "language": "python",
   "name": "python3"
  },
  "language_info": {
   "codemirror_mode": {
    "name": "ipython",
    "version": 3
   },
   "file_extension": ".py",
   "mimetype": "text/x-python",
   "name": "python",
   "nbconvert_exporter": "python",
   "pygments_lexer": "ipython3",
   "version": "3.7.4"
  }
 },
 "nbformat": 4,
 "nbformat_minor": 2
}
